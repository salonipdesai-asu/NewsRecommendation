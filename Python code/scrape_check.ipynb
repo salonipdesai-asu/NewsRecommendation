{
 "cells": [
  {
   "cell_type": "code",
   "execution_count": 1,
   "metadata": {
    "collapsed": true
   },
   "outputs": [],
   "source": [
    "import numpy as np\n",
    "from flask import Flask, request, jsonify\n",
    "import pickle\n",
    "import pandas as pd\n",
    "from newspaper import Article\n",
    "from textblob import Word, TextBlob\n",
    "from nltk.corpus import stopwords\n",
    "from flask_cors import CORS\n",
    "\n"
   ]
  },
  {
   "cell_type": "code",
   "execution_count": 2,
   "metadata": {
    "collapsed": true
   },
   "outputs": [],
   "source": [
    "# Load the COunt Vectoriser\n",
    "count_vect = pickle.load(open(\"count_vect.p\",\"rb\"))\n",
    "\n",
    "# Load the model\n",
    "nb = pickle.load(open('nb.p','rb'))\n",
    "rf = pickle.load(open('rf.p','rb'))\n",
    "logreg = pickle.load(open('logreg.p','rb'))\n",
    "svm = pickle.load(open('svm.p','rb'))"
   ]
  },
  {
   "cell_type": "code",
   "execution_count": 3,
   "metadata": {},
   "outputs": [
    {
     "data": {
      "text/plain": [
       "<flask_cors.extension.CORS at 0x18f53c6320>"
      ]
     },
     "execution_count": 3,
     "metadata": {},
     "output_type": "execute_result"
    }
   ],
   "source": [
    "app = Flask(__name__)\n",
    "CORS(app)"
   ]
  },
  {
   "cell_type": "code",
   "execution_count": 4,
   "metadata": {
    "collapsed": true
   },
   "outputs": [],
   "source": [
    "@app.route('/',methods=['POST'])\n",
    "def predict():\n",
    "    # Get the data from the POST request.\n",
    "    data = request.get_json(force=True)   \n",
    "    Url = data['url']\n",
    "    \n",
    "    test_article = Article(Url, language=\"en\")\n",
    "    \n",
    "    #To download the article \n",
    "    test_article.download() \n",
    "    \n",
    "    #To parse the article \n",
    "    test_article.parse() \n",
    "    \n",
    "    #To perform natural language processing ie..nlp \n",
    "    test_article.nlp() \n",
    "    \n",
    "    # Extracting news article\n",
    "    \n",
    "    sampleArticle = TextBlob(test_article.text)\n",
    "    sample = pd.DataFrame([test_article.text])\n",
    "    \n",
    "    # Sentiment Analysis\n",
    "    \n",
    "    PI = sampleArticle.polarity\n",
    "    SI = sampleArticle.subjectivity\n",
    "    \n",
    "    # Doing some preprocessing on these samples as done before\n",
    "    sample[0] = sample[0].str.replace('[^\\w\\s]',' ')\n",
    "    stop = stopwords.words('english')\n",
    "    sample[0] = sample[0].apply(lambda x: \" \".join(x for x in x.split() if x not in stop))\n",
    "    sample[0] = sample[0].apply(lambda x: \" \".join([Word(word).lemmatize() for word in x.split()]))\n",
    "    \n",
    "    # Extracting Count Vectors feature from our news article\n",
    "    sample_count = count_vect.transform(sample[0])\n",
    "    \n",
    "    RI = 0\n",
    "    \n",
    "    #real = 1, fake = 0\n",
    "    \n",
    "    if (nb.predict(sample_count) == 1):\n",
    "        RI = RI + 25\n",
    "    if (svm.predict(sample_count) == 1):\n",
    "        RI = RI + 25\n",
    "    if (rf.predict(sample_count) == 1):\n",
    "        RI = RI + 25\n",
    "    if (logreg.predict(sample_count) == 1):\n",
    "        RI = RI + 25\n",
    "    \n",
    "    return jsonify({'RI' : str(RI), \"PI\" : str(PI), \"SI\" : str(SI)})"
   ]
  },
  {
   "cell_type": "code",
   "execution_count": null,
   "metadata": {},
   "outputs": [
    {
     "name": "stderr",
     "output_type": "stream",
     "text": [
      " * Running on http://127.0.0.1:5000/ (Press CTRL+C to quit)\n",
      "127.0.0.1 - - [11/Apr/2019 09:34:21] \"POST / HTTP/1.1\" 200 -\n",
      "127.0.0.1 - - [11/Apr/2019 09:34:39] \"POST / HTTP/1.1\" 200 -\n",
      "127.0.0.1 - - [11/Apr/2019 09:35:22] \"POST / HTTP/1.1\" 200 -\n",
      "127.0.0.1 - - [11/Apr/2019 09:38:44] \"POST / HTTP/1.1\" 200 -\n",
      "127.0.0.1 - - [11/Apr/2019 11:23:25] \"POST / HTTP/1.1\" 200 -\n",
      "127.0.0.1 - - [11/Apr/2019 12:39:37] \"POST / HTTP/1.1\" 200 -\n",
      "[2019-04-11 13:36:13,995] ERROR in app: Exception on / [POST]\n",
      "Traceback (most recent call last):\n",
      "  File \"C:\\Users\\JAS\\Anaconda3\\lib\\site-packages\\flask\\app.py\", line 1982, in wsgi_app\n",
      "    response = self.full_dispatch_request()\n",
      "  File \"C:\\Users\\JAS\\Anaconda3\\lib\\site-packages\\flask\\app.py\", line 1614, in full_dispatch_request\n",
      "    rv = self.handle_user_exception(e)\n",
      "  File \"C:\\Users\\JAS\\Anaconda3\\lib\\site-packages\\flask_cors\\extension.py\", line 161, in wrapped_function\n",
      "    return cors_after_request(app.make_response(f(*args, **kwargs)))\n",
      "  File \"C:\\Users\\JAS\\Anaconda3\\lib\\site-packages\\flask\\app.py\", line 1517, in handle_user_exception\n",
      "    reraise(exc_type, exc_value, tb)\n",
      "  File \"C:\\Users\\JAS\\Anaconda3\\lib\\site-packages\\flask\\_compat.py\", line 33, in reraise\n",
      "    raise value\n",
      "  File \"C:\\Users\\JAS\\Anaconda3\\lib\\site-packages\\flask\\app.py\", line 1612, in full_dispatch_request\n",
      "    rv = self.dispatch_request()\n",
      "  File \"C:\\Users\\JAS\\Anaconda3\\lib\\site-packages\\flask\\app.py\", line 1598, in dispatch_request\n",
      "    return self.view_functions[rule.endpoint](**req.view_args)\n",
      "  File \"<ipython-input-4-589c5ec63c9e>\", line 13, in predict\n",
      "    test_article.parse()\n",
      "  File \"C:\\Users\\JAS\\Anaconda3\\lib\\site-packages\\newspaper\\article.py\", line 191, in parse\n",
      "    self.throw_if_not_downloaded_verbose()\n",
      "  File \"C:\\Users\\JAS\\Anaconda3\\lib\\site-packages\\newspaper\\article.py\", line 532, in throw_if_not_downloaded_verbose\n",
      "    (self.download_exception_msg, self.url))\n",
      "newspaper.article.ArticleException: Article `download()` failed with HTTPSConnectionPool(host='in.reuters.com', port=443): Max retries exceeded with url: /article/usa-mesa-egypt-exclusive/exclusive-egypt-withdraws-from-u-s-led-anti-iran-security-initiative-sources-idINKCN1RM2ZK (Caused by NewConnectionError('<urllib3.connection.VerifiedHTTPSConnection object at 0x00000018807FFA58>: Failed to establish a new connection: [Errno 11001] getaddrinfo failed',)) on URL https://in.reuters.com/article/usa-mesa-egypt-exclusive/exclusive-egypt-withdraws-from-u-s-led-anti-iran-security-initiative-sources-idINKCN1RM2ZK\n",
      "127.0.0.1 - - [11/Apr/2019 13:36:14] \"POST / HTTP/1.1\" 500 -\n",
      "127.0.0.1 - - [11/Apr/2019 13:36:49] \"POST / HTTP/1.1\" 200 -\n",
      "127.0.0.1 - - [11/Apr/2019 13:42:45] \"POST / HTTP/1.1\" 200 -\n",
      "127.0.0.1 - - [11/Apr/2019 13:45:01] \"POST / HTTP/1.1\" 200 -\n",
      "127.0.0.1 - - [11/Apr/2019 13:45:04] \"POST / HTTP/1.1\" 200 -\n"
     ]
    }
   ],
   "source": [
    "if __name__ == '__main__':\n",
    "    app.run(port=5000, debug=False)"
   ]
  },
  {
   "cell_type": "code",
   "execution_count": null,
   "metadata": {
    "collapsed": true
   },
   "outputs": [],
   "source": []
  }
 ],
 "metadata": {
  "kernelspec": {
   "display_name": "Python 3",
   "language": "python",
   "name": "python3"
  },
  "language_info": {
   "codemirror_mode": {
    "name": "ipython",
    "version": 3
   },
   "file_extension": ".py",
   "mimetype": "text/x-python",
   "name": "python",
   "nbconvert_exporter": "python",
   "pygments_lexer": "ipython3",
   "version": "3.6.3"
  }
 },
 "nbformat": 4,
 "nbformat_minor": 2
}
